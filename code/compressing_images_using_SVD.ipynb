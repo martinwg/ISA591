{
  "nbformat": 4,
  "nbformat_minor": 0,
  "metadata": {
    "colab": {
      "provenance": []
    },
    "kernelspec": {
      "name": "python3",
      "display_name": "Python 3"
    },
    "language_info": {
      "name": "python"
    }
  },
  "cells": [
    {
      "cell_type": "code",
      "execution_count": null,
      "metadata": {
        "id": "rSlH8awrs54V"
      },
      "outputs": [],
      "source": [
        "## This code illustrates the use of Singular Value Decomposition\n",
        "## We compress an image using the singular values\n",
        "\n",
        "import numpy as np\n",
        "import matplotlib.pyplot as plt\n",
        "from skimage import color, io\n",
        "\n",
        "# Load an image from a URL or a file path\n",
        "image = io.imread('YOURIMAGE.jpg')\n",
        "\n",
        "# Convert the image to grayscale\n",
        "gray_image = color.rgb2gray(image)\n",
        "\n",
        "# Perform Singular Value Decomposition\n",
        "U, S, V = np.linalg.svd(gray_image, full_matrices=False)\n",
        "\n",
        "# Reconstruct the image using only the first k singular values\n",
        "def reconstruct_image(U, S, V, k):\n",
        "    S_k = np.diag(S[:k])  # Keep only the first k singular values\n",
        "    U_k = U[:, :k]        # First k columns of U\n",
        "    V_k = V[:k, :]        # First k rows of V\n",
        "    return np.dot(U_k, np.dot(S_k, V_k))\n",
        "\n",
        "# Number of singular values to use for the reconstruction\n",
        "k = 50  # You can change this value to see how it affects the reconstruction\n",
        "\n",
        "# Reconstruct the image using k singular values\n",
        "reconstructed_image = reconstruct_image(U, S, V, k)\n",
        "\n",
        "# Plot the original and reconstructed image\n",
        "plt.figure(figsize=(8, 4))\n",
        "\n",
        "# Original grayscale image\n",
        "plt.subplot(1, 2, 1)\n",
        "plt.imshow(gray_image, cmap='gray')\n",
        "plt.title('Original')\n",
        "plt.axis('off')\n",
        "\n",
        "# Reconstructed image\n",
        "plt.subplot(1, 2, 2)\n",
        "plt.imshow(reconstructed_image, cmap='gray')\n",
        "plt.title(f'Reconstructed (k = {k})')\n",
        "plt.axis('off')\n",
        "\n",
        "plt.tight_layout()\n",
        "plt.show()"
      ]
    }
  ]
}
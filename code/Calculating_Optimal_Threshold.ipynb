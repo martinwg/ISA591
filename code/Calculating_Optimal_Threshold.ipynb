{
  "nbformat": 4,
  "nbformat_minor": 0,
  "metadata": {
    "colab": {
      "provenance": []
    },
    "kernelspec": {
      "name": "python3",
      "display_name": "Python 3"
    },
    "language_info": {
      "name": "python"
    }
  },
  "cells": [
    {
      "cell_type": "code",
      "source": [
        "## Step 1: Get Model p_hat\n",
        "p_hat = model.predict_proba(X_test)[:,1]\n",
        "\n",
        "## Step 2: we need all possible thresholds, TPR, FPR\n",
        "from sklearn.metrics import roc_curve, auc\n",
        "\n",
        "## all thresholds, TPR and FPR\n",
        "fpr, tpr, thresh= roc_curve(y_test, p_hat)"
      ],
      "metadata": {
        "id": "5dMPBtwEjS23"
      },
      "execution_count": null,
      "outputs": []
    },
    {
      "cell_type": "code",
      "execution_count": null,
      "metadata": {
        "id": "VCQbQ6DOjB2G"
      },
      "outputs": [],
      "source": [
        "## Step 3: We get Youden's J statistic (optimal threshold)\n",
        "optimal_idx = np.argmax(tpr - fpr)\n",
        "optimal_threshold = thresh[optimal_idx]\n",
        "print(\"Optimal threshold:\", optimal_threshold)"
      ]
    },
    {
      "cell_type": "code",
      "source": [
        "## check the performance with the optimal threshold\n",
        "## the new prediction is made by using this optimal threshold as opposed to 50%\n",
        "y_pred = (p_hat > optimal_threshold).astype(int)\n",
        "y_pred"
      ],
      "metadata": {
        "id": "JR4cmE3kjDJG"
      },
      "execution_count": null,
      "outputs": []
    }
  ]
}

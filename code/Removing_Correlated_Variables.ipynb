{
  "nbformat": 4,
  "nbformat_minor": 0,
  "metadata": {
    "colab": {
      "provenance": []
    },
    "kernelspec": {
      "name": "python3",
      "display_name": "Python 3"
    },
    "language_info": {
      "name": "python"
    }
  },
  "cells": [
    {
      "cell_type": "code",
      "execution_count": null,
      "metadata": {
        "id": "2DS0U1Ew9fSu"
      },
      "outputs": [],
      "source": [
        "# Create a correlation matrix\n",
        "corr_matrix = df.corr().abs()\n",
        "\n",
        "# Select upper triangle of correlation matrix\n",
        "upper = corr_matrix.where(np.triu(np.ones(corr_matrix.shape), k=1).astype(bool))\n",
        "\n",
        "# Find features with correlation greater than a threshold (e.g., 0.99)\n",
        "threshold = 0.99\n",
        "to_drop = [column for column in upper.columns if any(upper[column] > threshold)]\n",
        "\n",
        "# Drop the highly correlated features\n",
        "df = df.drop(columns=to_drop)\n",
        "\n",
        "print(f\"Columns removed: {to_drop}\")"
      ]
    }
  ]
}
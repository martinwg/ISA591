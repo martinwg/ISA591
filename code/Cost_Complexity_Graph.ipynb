{
 "cells": [
  {
   "cell_type": "code",
   "execution_count": 1,
   "id": "8598d59d",
   "metadata": {},
   "outputs": [],
   "source": [
    "import pandas as pd\n",
    "import numpy as np\n",
    "\n",
    "df = pd.read_csv('flights.csv')"
   ]
  },
  {
   "cell_type": "code",
   "execution_count": 2,
   "id": "dcfd637b",
   "metadata": {},
   "outputs": [
    {
     "data": {
      "text/html": [
       "<div>\n",
       "<style scoped>\n",
       "    .dataframe tbody tr th:only-of-type {\n",
       "        vertical-align: middle;\n",
       "    }\n",
       "\n",
       "    .dataframe tbody tr th {\n",
       "        vertical-align: top;\n",
       "    }\n",
       "\n",
       "    .dataframe thead th {\n",
       "        text-align: right;\n",
       "    }\n",
       "</style>\n",
       "<table border=\"1\" class=\"dataframe\">\n",
       "  <thead>\n",
       "    <tr style=\"text-align: right;\">\n",
       "      <th></th>\n",
       "      <th>Importance</th>\n",
       "    </tr>\n",
       "    <tr>\n",
       "      <th>Variable</th>\n",
       "      <th></th>\n",
       "    </tr>\n",
       "  </thead>\n",
       "  <tbody>\n",
       "    <tr>\n",
       "      <th>DEST_AIR_GRB</th>\n",
       "      <td>0.046028</td>\n",
       "    </tr>\n",
       "    <tr>\n",
       "      <th>DEST_AIR_CEC</th>\n",
       "      <td>0.043324</td>\n",
       "    </tr>\n",
       "    <tr>\n",
       "      <th>DEST_AIR_OTH</th>\n",
       "      <td>0.032561</td>\n",
       "    </tr>\n",
       "  </tbody>\n",
       "</table>\n",
       "</div>"
      ],
      "text/plain": [
       "              Importance\n",
       "Variable                \n",
       "DEST_AIR_GRB    0.046028\n",
       "DEST_AIR_CEC    0.043324\n",
       "DEST_AIR_OTH    0.032561"
      ]
     },
     "execution_count": 2,
     "metadata": {},
     "output_type": "execute_result"
    }
   ],
   "source": [
    "## example we read only the response AND the categorical variable you want to reduce dimensions \n",
    "yvar = 'CANCELLED'\n",
    "xvar = 'DEST_AIR'\n",
    "df_to_collapse = df[[yvar, xvar]]\n",
    "\n",
    "## we dummy-encode the variable\n",
    "df_to_collapse = pd.get_dummies(df_to_collapse, drop_first = True)\n",
    "df_to_collapse.head()\n",
    "\n",
    "## next import the random forest\n",
    "from sklearn.ensemble import RandomForestClassifier\n",
    "\n",
    "## we fit the random forest\n",
    "rf = RandomForestClassifier()\n",
    "rf.fit(df_to_collapse.drop(yvar, axis = 1), df_to_collapse[yvar])\n",
    "\n",
    "feature_importances = pd.DataFrame({'Variable' :df_to_collapse.drop(yvar, axis = 1).columns, 'Importance': rf.feature_importances_})\n",
    "feature_importances.set_index('Variable', inplace = True)\n",
    "feature_importances = feature_importances.sort_values(by = 'Importance', ascending = False)"
   ]
  },
  {
   "cell_type": "code",
   "execution_count": 3,
   "id": "8d79e4ec",
   "metadata": {},
   "outputs": [
    {
     "data": {
      "text/html": [
       "<div>\n",
       "<style scoped>\n",
       "    .dataframe tbody tr th:only-of-type {\n",
       "        vertical-align: middle;\n",
       "    }\n",
       "\n",
       "    .dataframe tbody tr th {\n",
       "        vertical-align: top;\n",
       "    }\n",
       "\n",
       "    .dataframe thead th {\n",
       "        text-align: right;\n",
       "    }\n",
       "</style>\n",
       "<table border=\"1\" class=\"dataframe\">\n",
       "  <thead>\n",
       "    <tr style=\"text-align: right;\">\n",
       "      <th></th>\n",
       "      <th>Importance</th>\n",
       "    </tr>\n",
       "    <tr>\n",
       "      <th>Variable</th>\n",
       "      <th></th>\n",
       "    </tr>\n",
       "  </thead>\n",
       "  <tbody>\n",
       "    <tr>\n",
       "      <th>DEST_AIR_GRB</th>\n",
       "      <td>0.046028</td>\n",
       "    </tr>\n",
       "    <tr>\n",
       "      <th>DEST_AIR_CEC</th>\n",
       "      <td>0.043324</td>\n",
       "    </tr>\n",
       "    <tr>\n",
       "      <th>DEST_AIR_OTH</th>\n",
       "      <td>0.032561</td>\n",
       "    </tr>\n",
       "    <tr>\n",
       "      <th>DEST_AIR_CMI</th>\n",
       "      <td>0.025902</td>\n",
       "    </tr>\n",
       "    <tr>\n",
       "      <th>DEST_AIR_CMX</th>\n",
       "      <td>0.024568</td>\n",
       "    </tr>\n",
       "  </tbody>\n",
       "</table>\n",
       "</div>"
      ],
      "text/plain": [
       "              Importance\n",
       "Variable                \n",
       "DEST_AIR_GRB    0.046028\n",
       "DEST_AIR_CEC    0.043324\n",
       "DEST_AIR_OTH    0.032561\n",
       "DEST_AIR_CMI    0.025902\n",
       "DEST_AIR_CMX    0.024568"
      ]
     },
     "execution_count": 3,
     "metadata": {},
     "output_type": "execute_result"
    }
   ],
   "source": [
    "feature_importances[:5]"
   ]
  },
  {
   "cell_type": "code",
   "execution_count": null,
   "id": "729d2101",
   "metadata": {},
   "outputs": [],
   "source": [
    "## create the dummy variables identified\n",
    "df['DEST_AIR_GRB'] = (df[\"DEST_AIR\"] == \"GRB\").astype('int')\n",
    "df['DEST_AIR_CEC'] = (df[\"DEST_AIR\"] == 'CEC').astype('int')\n",
    "df['DEST_AIR_OTH'] = (df[\"DEST_AIR\"] == 'OTH').astype('int')\n",
    "df['DEST_AIR_CMI'] = (df[\"DEST_AIR\"] == 'CMI').astype('int')\n",
    "\n",
    "df.drop('DEST_AIR', inplace = True, axis = 1)"
   ]
  }
 ],
 "metadata": {
  "kernelspec": {
   "display_name": "Python 3 (ipykernel)",
   "language": "python",
   "name": "python3"
  },
  "language_info": {
   "codemirror_mode": {
    "name": "ipython",
    "version": 3
   },
   "file_extension": ".py",
   "mimetype": "text/x-python",
   "name": "python",
   "nbconvert_exporter": "python",
   "pygments_lexer": "ipython3",
   "version": "3.10.9"
  }
 },
 "nbformat": 4,
 "nbformat_minor": 5
}

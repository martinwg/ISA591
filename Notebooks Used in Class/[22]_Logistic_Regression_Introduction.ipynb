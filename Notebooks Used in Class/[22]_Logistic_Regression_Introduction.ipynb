{
  "nbformat": 4,
  "nbformat_minor": 0,
  "metadata": {
    "colab": {
      "provenance": []
    },
    "kernelspec": {
      "name": "python3",
      "display_name": "Python 3"
    },
    "language_info": {
      "name": "python"
    }
  },
  "cells": [
    {
      "cell_type": "markdown",
      "source": [
        "## **Logistic Regression**\n",
        "\n",
        "Uses the logistic function as a link between the regular regression and the classification problem where $y = {0,1}$."
      ],
      "metadata": {
        "id": "sxFZtln3sUkl"
      }
    },
    {
      "cell_type": "markdown",
      "source": [
        "#### **Logistic Function**"
      ],
      "metadata": {
        "id": "anpfIjTWsi4j"
      }
    },
    {
      "cell_type": "code",
      "execution_count": 4,
      "metadata": {
        "id": "8zXaKkAssTvE"
      },
      "outputs": [],
      "source": [
        "import numpy as np\n",
        "\n",
        "## sigmoid or logistic function\n",
        "def logistic(x):\n",
        "  return np.exp(x) / (1 + np.exp(x))\n",
        "\n",
        "## this function is easier to calculate b/c it only the exponential once\n",
        "def sigmoid(x):\n",
        "  return 1 / (1 + np.exp(-x))"
      ]
    },
    {
      "cell_type": "code",
      "source": [
        "## x = 2\n",
        "print(logistic(2))\n",
        "print(sigmoid(2))"
      ],
      "metadata": {
        "colab": {
          "base_uri": "https://localhost:8080/"
        },
        "id": "YPDmouMPs0zl",
        "outputId": "2cfaa787-6c0f-46fd-b894-fddb80000ea6"
      },
      "execution_count": 6,
      "outputs": [
        {
          "output_type": "stream",
          "name": "stdout",
          "text": [
            "0.8807970779778824\n",
            "0.8807970779778823\n"
          ]
        }
      ]
    },
    {
      "cell_type": "code",
      "source": [
        "## x = -2.7\n",
        "print(logistic(-2.7))\n",
        "print(sigmoid(-2.7))"
      ],
      "metadata": {
        "colab": {
          "base_uri": "https://localhost:8080/"
        },
        "id": "HIvWM4OqtMhr",
        "outputId": "835de823-51bc-4310-ff9a-6b813049f160"
      },
      "execution_count": 7,
      "outputs": [
        {
          "output_type": "stream",
          "name": "stdout",
          "text": [
            "0.06297335605699649\n",
            "0.06297335605699649\n"
          ]
        }
      ]
    },
    {
      "cell_type": "code",
      "source": [
        "## x = 924\n",
        "print(logistic(924))\n",
        "print(sigmoid(924)) ## for large values, the sigmoid becomes 1"
      ],
      "metadata": {
        "colab": {
          "base_uri": "https://localhost:8080/"
        },
        "id": "MhE4m0sutaWU",
        "outputId": "ac51e97c-f1e0-4210-fbe9-2ea4a18cf9e1"
      },
      "execution_count": 9,
      "outputs": [
        {
          "output_type": "stream",
          "name": "stdout",
          "text": [
            "nan\n",
            "1.0\n"
          ]
        },
        {
          "output_type": "stream",
          "name": "stderr",
          "text": [
            "<ipython-input-4-33c5bf42a8c3>:5: RuntimeWarning: overflow encountered in exp\n",
            "  return np.exp(x) / (1 + np.exp(x))\n",
            "<ipython-input-4-33c5bf42a8c3>:5: RuntimeWarning: invalid value encountered in scalar divide\n",
            "  return np.exp(x) / (1 + np.exp(x))\n"
          ]
        }
      ]
    },
    {
      "cell_type": "code",
      "source": [
        "## x = -924\n",
        "print(logistic(-924))\n",
        "print(sigmoid(-924)) ## for large negative values, the sigmoid becomes 0"
      ],
      "metadata": {
        "colab": {
          "base_uri": "https://localhost:8080/"
        },
        "id": "4EyY6yL8tfrr",
        "outputId": "88352a86-d321-4243-b038-eb0c956ba812"
      },
      "execution_count": 10,
      "outputs": [
        {
          "output_type": "stream",
          "name": "stdout",
          "text": [
            "0.0\n",
            "0.0\n"
          ]
        },
        {
          "output_type": "stream",
          "name": "stderr",
          "text": [
            "<ipython-input-4-33c5bf42a8c3>:9: RuntimeWarning: overflow encountered in exp\n",
            "  return 1 / (1 + np.exp(-x))\n"
          ]
        }
      ]
    },
    {
      "cell_type": "markdown",
      "source": [
        "#### **Example**"
      ],
      "metadata": {
        "id": "qh5vFkHzvBev"
      }
    },
    {
      "cell_type": "code",
      "source": [
        "import pandas as pd\n",
        "\n",
        "df = pd.read_csv('https://raw.githubusercontent.com/martinwg/ISA591/refs/heads/main/data/default.csv')[['balance', 'default']]\n",
        "df.head()"
      ],
      "metadata": {
        "colab": {
          "base_uri": "https://localhost:8080/",
          "height": 206
        },
        "id": "rPIyHIB1vDVN",
        "outputId": "9b4b97d4-f269-4cad-8239-b3dfb7aa06a7"
      },
      "execution_count": 11,
      "outputs": [
        {
          "output_type": "execute_result",
          "data": {
            "text/plain": [
              "       balance  default\n",
              "0   729.526495        0\n",
              "1   817.180407        0\n",
              "2  1073.549164        0\n",
              "3   529.250605        0\n",
              "4   785.655883        0"
            ],
            "text/html": [
              "\n",
              "  <div id=\"df-5b8930dc-6413-4e98-88d7-e59e128ebc3e\" class=\"colab-df-container\">\n",
              "    <div>\n",
              "<style scoped>\n",
              "    .dataframe tbody tr th:only-of-type {\n",
              "        vertical-align: middle;\n",
              "    }\n",
              "\n",
              "    .dataframe tbody tr th {\n",
              "        vertical-align: top;\n",
              "    }\n",
              "\n",
              "    .dataframe thead th {\n",
              "        text-align: right;\n",
              "    }\n",
              "</style>\n",
              "<table border=\"1\" class=\"dataframe\">\n",
              "  <thead>\n",
              "    <tr style=\"text-align: right;\">\n",
              "      <th></th>\n",
              "      <th>balance</th>\n",
              "      <th>default</th>\n",
              "    </tr>\n",
              "  </thead>\n",
              "  <tbody>\n",
              "    <tr>\n",
              "      <th>0</th>\n",
              "      <td>729.526495</td>\n",
              "      <td>0</td>\n",
              "    </tr>\n",
              "    <tr>\n",
              "      <th>1</th>\n",
              "      <td>817.180407</td>\n",
              "      <td>0</td>\n",
              "    </tr>\n",
              "    <tr>\n",
              "      <th>2</th>\n",
              "      <td>1073.549164</td>\n",
              "      <td>0</td>\n",
              "    </tr>\n",
              "    <tr>\n",
              "      <th>3</th>\n",
              "      <td>529.250605</td>\n",
              "      <td>0</td>\n",
              "    </tr>\n",
              "    <tr>\n",
              "      <th>4</th>\n",
              "      <td>785.655883</td>\n",
              "      <td>0</td>\n",
              "    </tr>\n",
              "  </tbody>\n",
              "</table>\n",
              "</div>\n",
              "    <div class=\"colab-df-buttons\">\n",
              "\n",
              "  <div class=\"colab-df-container\">\n",
              "    <button class=\"colab-df-convert\" onclick=\"convertToInteractive('df-5b8930dc-6413-4e98-88d7-e59e128ebc3e')\"\n",
              "            title=\"Convert this dataframe to an interactive table.\"\n",
              "            style=\"display:none;\">\n",
              "\n",
              "  <svg xmlns=\"http://www.w3.org/2000/svg\" height=\"24px\" viewBox=\"0 -960 960 960\">\n",
              "    <path d=\"M120-120v-720h720v720H120Zm60-500h600v-160H180v160Zm220 220h160v-160H400v160Zm0 220h160v-160H400v160ZM180-400h160v-160H180v160Zm440 0h160v-160H620v160ZM180-180h160v-160H180v160Zm440 0h160v-160H620v160Z\"/>\n",
              "  </svg>\n",
              "    </button>\n",
              "\n",
              "  <style>\n",
              "    .colab-df-container {\n",
              "      display:flex;\n",
              "      gap: 12px;\n",
              "    }\n",
              "\n",
              "    .colab-df-convert {\n",
              "      background-color: #E8F0FE;\n",
              "      border: none;\n",
              "      border-radius: 50%;\n",
              "      cursor: pointer;\n",
              "      display: none;\n",
              "      fill: #1967D2;\n",
              "      height: 32px;\n",
              "      padding: 0 0 0 0;\n",
              "      width: 32px;\n",
              "    }\n",
              "\n",
              "    .colab-df-convert:hover {\n",
              "      background-color: #E2EBFA;\n",
              "      box-shadow: 0px 1px 2px rgba(60, 64, 67, 0.3), 0px 1px 3px 1px rgba(60, 64, 67, 0.15);\n",
              "      fill: #174EA6;\n",
              "    }\n",
              "\n",
              "    .colab-df-buttons div {\n",
              "      margin-bottom: 4px;\n",
              "    }\n",
              "\n",
              "    [theme=dark] .colab-df-convert {\n",
              "      background-color: #3B4455;\n",
              "      fill: #D2E3FC;\n",
              "    }\n",
              "\n",
              "    [theme=dark] .colab-df-convert:hover {\n",
              "      background-color: #434B5C;\n",
              "      box-shadow: 0px 1px 3px 1px rgba(0, 0, 0, 0.15);\n",
              "      filter: drop-shadow(0px 1px 2px rgba(0, 0, 0, 0.3));\n",
              "      fill: #FFFFFF;\n",
              "    }\n",
              "  </style>\n",
              "\n",
              "    <script>\n",
              "      const buttonEl =\n",
              "        document.querySelector('#df-5b8930dc-6413-4e98-88d7-e59e128ebc3e button.colab-df-convert');\n",
              "      buttonEl.style.display =\n",
              "        google.colab.kernel.accessAllowed ? 'block' : 'none';\n",
              "\n",
              "      async function convertToInteractive(key) {\n",
              "        const element = document.querySelector('#df-5b8930dc-6413-4e98-88d7-e59e128ebc3e');\n",
              "        const dataTable =\n",
              "          await google.colab.kernel.invokeFunction('convertToInteractive',\n",
              "                                                    [key], {});\n",
              "        if (!dataTable) return;\n",
              "\n",
              "        const docLinkHtml = 'Like what you see? Visit the ' +\n",
              "          '<a target=\"_blank\" href=https://colab.research.google.com/notebooks/data_table.ipynb>data table notebook</a>'\n",
              "          + ' to learn more about interactive tables.';\n",
              "        element.innerHTML = '';\n",
              "        dataTable['output_type'] = 'display_data';\n",
              "        await google.colab.output.renderOutput(dataTable, element);\n",
              "        const docLink = document.createElement('div');\n",
              "        docLink.innerHTML = docLinkHtml;\n",
              "        element.appendChild(docLink);\n",
              "      }\n",
              "    </script>\n",
              "  </div>\n",
              "\n",
              "\n",
              "<div id=\"df-92f82dcf-c407-41d8-8ad1-3f1dfde96acd\">\n",
              "  <button class=\"colab-df-quickchart\" onclick=\"quickchart('df-92f82dcf-c407-41d8-8ad1-3f1dfde96acd')\"\n",
              "            title=\"Suggest charts\"\n",
              "            style=\"display:none;\">\n",
              "\n",
              "<svg xmlns=\"http://www.w3.org/2000/svg\" height=\"24px\"viewBox=\"0 0 24 24\"\n",
              "     width=\"24px\">\n",
              "    <g>\n",
              "        <path d=\"M19 3H5c-1.1 0-2 .9-2 2v14c0 1.1.9 2 2 2h14c1.1 0 2-.9 2-2V5c0-1.1-.9-2-2-2zM9 17H7v-7h2v7zm4 0h-2V7h2v10zm4 0h-2v-4h2v4z\"/>\n",
              "    </g>\n",
              "</svg>\n",
              "  </button>\n",
              "\n",
              "<style>\n",
              "  .colab-df-quickchart {\n",
              "      --bg-color: #E8F0FE;\n",
              "      --fill-color: #1967D2;\n",
              "      --hover-bg-color: #E2EBFA;\n",
              "      --hover-fill-color: #174EA6;\n",
              "      --disabled-fill-color: #AAA;\n",
              "      --disabled-bg-color: #DDD;\n",
              "  }\n",
              "\n",
              "  [theme=dark] .colab-df-quickchart {\n",
              "      --bg-color: #3B4455;\n",
              "      --fill-color: #D2E3FC;\n",
              "      --hover-bg-color: #434B5C;\n",
              "      --hover-fill-color: #FFFFFF;\n",
              "      --disabled-bg-color: #3B4455;\n",
              "      --disabled-fill-color: #666;\n",
              "  }\n",
              "\n",
              "  .colab-df-quickchart {\n",
              "    background-color: var(--bg-color);\n",
              "    border: none;\n",
              "    border-radius: 50%;\n",
              "    cursor: pointer;\n",
              "    display: none;\n",
              "    fill: var(--fill-color);\n",
              "    height: 32px;\n",
              "    padding: 0;\n",
              "    width: 32px;\n",
              "  }\n",
              "\n",
              "  .colab-df-quickchart:hover {\n",
              "    background-color: var(--hover-bg-color);\n",
              "    box-shadow: 0 1px 2px rgba(60, 64, 67, 0.3), 0 1px 3px 1px rgba(60, 64, 67, 0.15);\n",
              "    fill: var(--button-hover-fill-color);\n",
              "  }\n",
              "\n",
              "  .colab-df-quickchart-complete:disabled,\n",
              "  .colab-df-quickchart-complete:disabled:hover {\n",
              "    background-color: var(--disabled-bg-color);\n",
              "    fill: var(--disabled-fill-color);\n",
              "    box-shadow: none;\n",
              "  }\n",
              "\n",
              "  .colab-df-spinner {\n",
              "    border: 2px solid var(--fill-color);\n",
              "    border-color: transparent;\n",
              "    border-bottom-color: var(--fill-color);\n",
              "    animation:\n",
              "      spin 1s steps(1) infinite;\n",
              "  }\n",
              "\n",
              "  @keyframes spin {\n",
              "    0% {\n",
              "      border-color: transparent;\n",
              "      border-bottom-color: var(--fill-color);\n",
              "      border-left-color: var(--fill-color);\n",
              "    }\n",
              "    20% {\n",
              "      border-color: transparent;\n",
              "      border-left-color: var(--fill-color);\n",
              "      border-top-color: var(--fill-color);\n",
              "    }\n",
              "    30% {\n",
              "      border-color: transparent;\n",
              "      border-left-color: var(--fill-color);\n",
              "      border-top-color: var(--fill-color);\n",
              "      border-right-color: var(--fill-color);\n",
              "    }\n",
              "    40% {\n",
              "      border-color: transparent;\n",
              "      border-right-color: var(--fill-color);\n",
              "      border-top-color: var(--fill-color);\n",
              "    }\n",
              "    60% {\n",
              "      border-color: transparent;\n",
              "      border-right-color: var(--fill-color);\n",
              "    }\n",
              "    80% {\n",
              "      border-color: transparent;\n",
              "      border-right-color: var(--fill-color);\n",
              "      border-bottom-color: var(--fill-color);\n",
              "    }\n",
              "    90% {\n",
              "      border-color: transparent;\n",
              "      border-bottom-color: var(--fill-color);\n",
              "    }\n",
              "  }\n",
              "</style>\n",
              "\n",
              "  <script>\n",
              "    async function quickchart(key) {\n",
              "      const quickchartButtonEl =\n",
              "        document.querySelector('#' + key + ' button');\n",
              "      quickchartButtonEl.disabled = true;  // To prevent multiple clicks.\n",
              "      quickchartButtonEl.classList.add('colab-df-spinner');\n",
              "      try {\n",
              "        const charts = await google.colab.kernel.invokeFunction(\n",
              "            'suggestCharts', [key], {});\n",
              "      } catch (error) {\n",
              "        console.error('Error during call to suggestCharts:', error);\n",
              "      }\n",
              "      quickchartButtonEl.classList.remove('colab-df-spinner');\n",
              "      quickchartButtonEl.classList.add('colab-df-quickchart-complete');\n",
              "    }\n",
              "    (() => {\n",
              "      let quickchartButtonEl =\n",
              "        document.querySelector('#df-92f82dcf-c407-41d8-8ad1-3f1dfde96acd button');\n",
              "      quickchartButtonEl.style.display =\n",
              "        google.colab.kernel.accessAllowed ? 'block' : 'none';\n",
              "    })();\n",
              "  </script>\n",
              "</div>\n",
              "\n",
              "    </div>\n",
              "  </div>\n"
            ],
            "application/vnd.google.colaboratory.intrinsic+json": {
              "type": "dataframe",
              "variable_name": "df",
              "summary": "{\n  \"name\": \"df\",\n  \"rows\": 10000,\n  \"fields\": [\n    {\n      \"column\": \"balance\",\n      \"properties\": {\n        \"dtype\": \"number\",\n        \"std\": 483.71498520561767,\n        \"min\": 0.0,\n        \"max\": 2654.32257628018,\n        \"num_unique_values\": 9502,\n        \"samples\": [\n          245.346492518079,\n          186.523520052956,\n          1184.87086972763\n        ],\n        \"semantic_type\": \"\",\n        \"description\": \"\"\n      }\n    },\n    {\n      \"column\": \"default\",\n      \"properties\": {\n        \"dtype\": \"number\",\n        \"std\": 0,\n        \"min\": 0,\n        \"max\": 1,\n        \"num_unique_values\": 2,\n        \"samples\": [\n          1,\n          0\n        ],\n        \"semantic_type\": \"\",\n        \"description\": \"\"\n      }\n    }\n  ]\n}"
            }
          },
          "metadata": {},
          "execution_count": 11
        }
      ]
    },
    {
      "cell_type": "code",
      "source": [
        "## scatter plot\n",
        "import seaborn as sns\n",
        "sns.scatterplot(data=df, x='balance', y='default');"
      ],
      "metadata": {
        "colab": {
          "base_uri": "https://localhost:8080/",
          "height": 449
        },
        "id": "bUhIvKkLvOGl",
        "outputId": "907a73cd-275d-46c5-d476-8067bd63cadd"
      },
      "execution_count": 12,
      "outputs": [
        {
          "output_type": "display_data",
          "data": {
            "text/plain": [
              "<Figure size 640x480 with 1 Axes>"
            ],
            "image/png": "[encoded data removed]"
          },
          "metadata": {}
        }
      ]
    },
    {
      "cell_type": "code",
      "source": [
        "## sklearn - predictive models (do not include p-values)\n",
        "## statsmodels.api - descriptive (includes p-values, includes GOODNESS OF FIT)\n",
        "\n",
        "## Create X and y\n",
        "X = df.drop('default', axis = 1)\n",
        "y = df['default']"
      ],
      "metadata": {
        "id": "p6AtEuJrvfRm"
      },
      "execution_count": 13,
      "outputs": []
    },
    {
      "cell_type": "code",
      "source": [
        "## model (descriptive)\n",
        "import statsmodels.api as sm\n",
        "\n",
        "## instance (require y and X)\n",
        "## sm.add_constant adds the intercept column (1s) to matrix X\n",
        "## you need this column when estimating a y-intercept\n",
        "## recommended make instance and fit at the same time\n",
        "lr = sm.Logit(y, sm.add_constant(X)).fit()"
      ],
      "metadata": {
        "colab": {
          "base_uri": "https://localhost:8080/"
        },
        "id": "BT3upRz3wdjX",
        "outputId": "be2b49ce-de9b-486a-8cf4-cc0aabff96bf"
      },
      "execution_count": 15,
      "outputs": [
        {
          "output_type": "stream",
          "name": "stdout",
          "text": [
            "Optimization terminated successfully.\n",
            "         Current function value: 0.079823\n",
            "         Iterations 10\n"
          ]
        }
      ]
    },
    {
      "cell_type": "code",
      "source": [
        "## the summary print p-values and goodness of fit metrics\n",
        "print(lr.summary())"
      ],
      "metadata": {
        "colab": {
          "base_uri": "https://localhost:8080/"
        },
        "id": "i-vjL_b5xfH5",
        "outputId": "4b5c379b-69f8-4e1a-d9cc-5087d1c23b28"
      },
      "execution_count": 17,
      "outputs": [
        {
          "output_type": "stream",
          "name": "stdout",
          "text": [
            "                           Logit Regression Results                           \n",
            "==============================================================================\n",
            "Dep. Variable:                default   No. Observations:                10000\n",
            "Model:                          Logit   Df Residuals:                     9998\n",
            "Method:                           MLE   Df Model:                            1\n",
            "Date:                Tue, 12 Nov 2024   Pseudo R-squ.:                  0.4534\n",
            "Time:                        19:07:49   Log-Likelihood:                -798.23\n",
            "converged:                       True   LL-Null:                       -1460.3\n",
            "Covariance Type:            nonrobust   LLR p-value:                6.233e-290\n",
            "==============================================================================\n",
            "                 coef    std err          z      P>|z|      [0.025      0.975]\n",
            "------------------------------------------------------------------------------\n",
            "const        -10.6513      0.361    -29.491      0.000     -11.359      -9.943\n",
            "balance        0.0055      0.000     24.952      0.000       0.005       0.006\n",
            "==============================================================================\n",
            "\n",
            "Possibly complete quasi-separation: A fraction 0.13 of observations can be\n",
            "perfectly predicted. This might indicate that there is complete\n",
            "quasi-separation. In this case some parameters will not be identified.\n"
          ]
        }
      ]
    },
    {
      "cell_type": "code",
      "source": [
        "## param estimates: (k + 1)\n",
        "## error df: n - (k+1) = 10000 - 2 = 9998"
      ],
      "metadata": {
        "id": "MULtOWlrxjY_"
      },
      "execution_count": 18,
      "outputs": []
    },
    {
      "cell_type": "code",
      "source": [
        "## say that we have a balance past due of $2000, what is the probability of default?\n",
        "log_odds = -10.6513 + 0.0055*2000\n",
        "print(f'This is the Log(Odds) of Default {log_odds}')\n",
        "\n",
        "phat = np.exp(log_odds) / (1 + np.exp(log_odds))  ## formula 1\n",
        "print(f'This is the Probability of Default {phat}')"
      ],
      "metadata": {
        "colab": {
          "base_uri": "https://localhost:8080/"
        },
        "id": "7JU1JTlrx5No",
        "outputId": "ced5d90a-a59a-47ae-949c-e1da91e7a71e"
      },
      "execution_count": 26,
      "outputs": [
        {
          "output_type": "stream",
          "name": "stdout",
          "text": [
            "This is the Log(Odds) of Default 0.3486999999999991\n",
            "This is the Probability of Default 0.5863022968465422\n"
          ]
        }
      ]
    },
    {
      "cell_type": "code",
      "source": [
        "## say that we have a balance past due of $10000\n",
        "log_odds = -10.6513 + 0.0055*10000\n",
        "print(f'This is the Log(Odds) of Default {log_odds}')\n",
        "\n",
        "phat = np.exp(log_odds) / (1 + np.exp(log_odds))  ## formula 1\n",
        "print(f'This is the Probability of Default {phat}')"
      ],
      "metadata": {
        "colab": {
          "base_uri": "https://localhost:8080/"
        },
        "id": "D0ZxDgeayMVN",
        "outputId": "a84b4f01-4985-4f5c-d9a5-3e9ae0d3201f"
      },
      "execution_count": 27,
      "outputs": [
        {
          "output_type": "stream",
          "name": "stdout",
          "text": [
            "This is the Log(Odds) of Default 44.3487\n",
            "This is the Probability of Default 1.0\n"
          ]
        }
      ]
    },
    {
      "cell_type": "code",
      "source": [
        "## plot the logistic model\n",
        "sns.regplot(data=df, x='balance', y='default', logistic=True, ci = None);"
      ],
      "metadata": {
        "colab": {
          "base_uri": "https://localhost:8080/",
          "height": 449
        },
        "id": "TgDjI0zWyyUZ",
        "outputId": "d278074a-047e-4024-b409-6ad1bfff7b99"
      },
      "execution_count": 28,
      "outputs": [
        {
          "output_type": "display_data",
          "data": {
            "text/plain": [
              "<Figure size 640x480 with 1 Axes>"
            ],
            "image/png": "[encoded data removed]"
          },
          "metadata": {}
        }
      ]
    },
    {
      "cell_type": "code",
      "source": [
        "## say that we have a balance past due of $2500, what is the probability of default?\n",
        "log_odds = -10.6513 + 0.0055*2500\n",
        "print(f'This is the Log(Odds) of Default {log_odds}')\n",
        "\n",
        "phat = np.exp(log_odds) / (1 + np.exp(log_odds))  ## formula 1\n",
        "print(f'This is the Probability of Default {phat}')"
      ],
      "metadata": {
        "colab": {
          "base_uri": "https://localhost:8080/"
        },
        "id": "vqQAgA7u0OWL",
        "outputId": "dd1f5943-3a85-47fe-b2a0-debcae366f81"
      },
      "execution_count": 29,
      "outputs": [
        {
          "output_type": "stream",
          "name": "stdout",
          "text": [
            "This is the Log(Odds) of Default 3.098699999999999\n",
            "This is the Probability of Default 0.9568390894718011\n"
          ]
        }
      ]
    },
    {
      "cell_type": "code",
      "source": [
        "## odds\n",
        "## the odds of default = p(default) / p(non-default)\n",
        "## odds of default = 2   (2 to 1 odds of default, p(default) is 2 times greater than p(non-default))\n",
        "## balance = 2500\n",
        "## what are the odds of default?\n",
        "log_odds = -10.6513 + 0.0055*2500\n",
        "\n",
        "phat = np.exp(log_odds) / (1 + np.exp(log_odds))  ## formula 1\n",
        "\n",
        "odds = phat / (1 - phat)\n",
        "print(f'This is the Odds of Default {odds}')"
      ],
      "metadata": {
        "colab": {
          "base_uri": "https://localhost:8080/"
        },
        "id": "ol48qw1_0sJL",
        "outputId": "1c8a1525-d204-461d-c361-aeef60e41c78"
      },
      "execution_count": 30,
      "outputs": [
        {
          "output_type": "stream",
          "name": "stdout",
          "text": [
            "This is the Odds of Default 22.169112693919093\n"
          ]
        }
      ]
    },
    {
      "cell_type": "code",
      "source": [
        "## this person has a 22 to 1 odds of default\n",
        "## p(default) is about 22 times larger p(non-default)"
      ],
      "metadata": {
        "id": "cqouD66t2IWM"
      },
      "execution_count": 31,
      "outputs": []
    },
    {
      "cell_type": "code",
      "source": [
        "## If a person has a 22 to 1 odds of default\n",
        "## what is the log(odds)\n",
        "np.log(22)"
      ],
      "metadata": {
        "colab": {
          "base_uri": "https://localhost:8080/"
        },
        "id": "G4UTL5SS2Rmb",
        "outputId": "dc022ba3-9757-4311-8e73-32daadc47391"
      },
      "execution_count": 33,
      "outputs": [
        {
          "output_type": "execute_result",
          "data": {
            "text/plain": [
              "3.091042453358316"
            ]
          },
          "metadata": {},
          "execution_count": 33
        }
      ]
    },
    {
      "cell_type": "code",
      "source": [
        "## If a person has a 0.35 log(odds) of default, what are the odds of default?\n",
        "np.exp(0.35)"
      ],
      "metadata": {
        "colab": {
          "base_uri": "https://localhost:8080/"
        },
        "id": "Juql6-_N2nR0",
        "outputId": "245fdab1-d7f5-4248-8514-1748c2c9333b"
      },
      "execution_count": 34,
      "outputs": [
        {
          "output_type": "execute_result",
          "data": {
            "text/plain": [
              "1.4190675485932571"
            ]
          },
          "metadata": {},
          "execution_count": 34
        }
      ]
    }
  ]
}
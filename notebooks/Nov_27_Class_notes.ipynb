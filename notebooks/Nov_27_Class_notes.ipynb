{
  "nbformat": 4,
  "nbformat_minor": 0,
  "metadata": {
    "colab": {
      "provenance": []
    },
    "kernelspec": {
      "name": "python3",
      "display_name": "Python 3"
    },
    "language_info": {
      "name": "python"
    }
  },
  "cells": [
    {
      "cell_type": "code",
      "execution_count": 1,
      "metadata": {
        "id": "9MFBkTPvzukw"
      },
      "outputs": [],
      "source": [
        "import pandas as pd\n",
        "import numpy as np\n",
        "import sklearn"
      ]
    },
    {
      "cell_type": "code",
      "source": [
        "## MLPs\n",
        "## Multi-layer perceptron\n",
        "## feedforward Neural Networks\n",
        "from sklearn.neural_network import MLPClassifier  ## classification\n",
        "from sklearn.neural_network import MLPRegressor   ## regression"
      ],
      "metadata": {
        "id": "qcbn26_qz0q7"
      },
      "execution_count": 2,
      "outputs": []
    },
    {
      "cell_type": "code",
      "source": [
        "## sklearn implementation automatically knows the input and output layer sizes\n",
        "## Tensorflow: Google product  - also need to input show input and output size\n",
        "## Pytorch: Facebook\n",
        "nn = MLPClassifier()  ## default 1 hidden layer with 100 neurons\n",
        "## hidden_layer_sizes=(100,)"
      ],
      "metadata": {
        "id": "jkDH0ic30Iyx"
      },
      "execution_count": 3,
      "outputs": []
    },
    {
      "cell_type": "code",
      "source": [
        "nn_reg = MLPRegressor() ## default 1 hidden layer with 100 neurons"
      ],
      "metadata": {
        "id": "jNeo1ym409nI"
      },
      "execution_count": 4,
      "outputs": []
    },
    {
      "cell_type": "code",
      "source": [
        "## weights and bias for the neuron\n",
        "## when the nn is trained, these are the estimates the NN produces\n",
        "b = 10\n",
        "w1 = -0.5\n",
        "w2 = 2.1"
      ],
      "metadata": {
        "id": "SsN7S0nk1E2a"
      },
      "execution_count": 6,
      "outputs": []
    },
    {
      "cell_type": "code",
      "source": [
        "## INSIDE THE NEURON\n",
        "## 1) SUM\n",
        "## 2) ACTIVATION\n",
        "\n",
        "x1 = 5\n",
        "x2 = -20\n",
        "\n",
        "## 1) CALCULATE THE SUM FUNCTION\n",
        "z = b + w1*x1 + w2*x2\n",
        "print(z)"
      ],
      "metadata": {
        "colab": {
          "base_uri": "https://localhost:8080/"
        },
        "id": "-u4F75q124YP",
        "outputId": "ac4b77f6-786b-4bd2-ef9a-502fa6dc9fb2"
      },
      "execution_count": 12,
      "outputs": [
        {
          "output_type": "stream",
          "name": "stdout",
          "text": [
            "-34.5\n"
          ]
        }
      ]
    },
    {
      "cell_type": "code",
      "source": [
        "## 2) CALCULATE THE ACTIVATION\n",
        "## if activation is logistic\n",
        "## output is 1 / (1+np.exp(-z))\n",
        "1 / (1+np.exp(-z))"
      ],
      "metadata": {
        "colab": {
          "base_uri": "https://localhost:8080/"
        },
        "id": "3SvuCYs63Xp4",
        "outputId": "c54dc97f-4cb0-4367-d2ca-be50af19d688"
      },
      "execution_count": 13,
      "outputs": [
        {
          "output_type": "execute_result",
          "data": {
            "text/plain": [
              "1.039538011670221e-15"
            ]
          },
          "metadata": {},
          "execution_count": 13
        }
      ]
    },
    {
      "cell_type": "code",
      "source": [
        "## 2) CALCULATE THE ACTIVATION\n",
        "## if activation is Relu\n",
        "## output is (0,z)\n",
        "np.max((0,z))"
      ],
      "metadata": {
        "colab": {
          "base_uri": "https://localhost:8080/"
        },
        "id": "akiegSdp3t2a",
        "outputId": "d21d6c9b-d124-4383-d8c9-725d6f24e931"
      },
      "execution_count": 14,
      "outputs": [
        {
          "output_type": "execute_result",
          "data": {
            "text/plain": [
              "0.0"
            ]
          },
          "metadata": {},
          "execution_count": 14
        }
      ]
    },
    {
      "cell_type": "code",
      "source": [
        "## 2) CALCULATE THE ACTIVATION\n",
        "## if activation is TANH\n",
        "## output is (np.exp(z) - np.exp(-z)) / (np.exp(z) + np.exp(-z))\n",
        "(np.exp(z) - np.exp(-z)) / (np.exp(z) + np.exp(-z))"
      ],
      "metadata": {
        "colab": {
          "base_uri": "https://localhost:8080/"
        },
        "id": "slTcC47y4K0h",
        "outputId": "15fa0c65-fa53-478c-99e8-012ec15d97ea"
      },
      "execution_count": 15,
      "outputs": [
        {
          "output_type": "execute_result",
          "data": {
            "text/plain": [
              "-1.0"
            ]
          },
          "metadata": {},
          "execution_count": 15
        }
      ]
    },
    {
      "cell_type": "code",
      "source": [
        "## 2) CALCULATE THE ACTIVATION\n",
        "## if activation is identity\n",
        "## output is z\n",
        "z"
      ],
      "metadata": {
        "colab": {
          "base_uri": "https://localhost:8080/"
        },
        "id": "nciYpM1p4dzZ",
        "outputId": "dee55810-075d-4bec-fe00-cfc3bcc468a3"
      },
      "execution_count": 16,
      "outputs": [
        {
          "output_type": "execute_result",
          "data": {
            "text/plain": [
              "-34.5"
            ]
          },
          "metadata": {},
          "execution_count": 16
        }
      ]
    },
    {
      "cell_type": "code",
      "source": [
        "## CHANGE THE ACTIVATION ON MLPClassifier\n",
        "## You can only the change the activation on the hidden layers\n",
        "## every hidden layer has the same activation\n",
        "## Tensorflow - allows different activations in each layer\n",
        "nn = MLPClassifier(hidden_layer_sizes = (100,50), activation = \"tanh\")\n",
        "## 2-hidden layer NN with 100 neurons (1st) and 50 neurons (2nd)\n",
        "## activation tanh\n",
        "## the output layers uses by default logistic activation for binary problems"
      ],
      "metadata": {
        "id": "AaXcXaDh4qyq"
      },
      "execution_count": 19,
      "outputs": []
    },
    {
      "cell_type": "code",
      "source": [
        "## Regressor\n",
        "## the output layer uses by default the identity for regressors\n",
        "nn_reg = MLPRegressor(hidden_layer_sizes = (100,50), activation = \"tanh\")"
      ],
      "metadata": {
        "id": "GHLsLUPk6CrR"
      },
      "execution_count": 21,
      "outputs": []
    },
    {
      "cell_type": "code",
      "source": [
        "## SUPPOSE YOU HAVE\n",
        "## 2 INPUT NEURONS\n",
        "## 1 HIDDEN LAYER WITH 6 NEURONS\n",
        "## 1 OUTPUT NEURONS\n",
        "weights = 2*6 + 6*1\n",
        "weights"
      ],
      "metadata": {
        "colab": {
          "base_uri": "https://localhost:8080/"
        },
        "id": "0qSKMW1G6Wps",
        "outputId": "69d57856-1221-4745-dfa7-9aac9493e468"
      },
      "execution_count": 22,
      "outputs": [
        {
          "output_type": "execute_result",
          "data": {
            "text/plain": [
              "18"
            ]
          },
          "metadata": {},
          "execution_count": 22
        }
      ]
    },
    {
      "cell_type": "code",
      "source": [
        "## number of biases\n",
        "## NONE for input\n",
        "## # neurons for each hidden\n",
        "## # neurons for the output\n",
        "biases = 6+1\n",
        "biases"
      ],
      "metadata": {
        "colab": {
          "base_uri": "https://localhost:8080/"
        },
        "id": "LE0sHF4t7nN1",
        "outputId": "cacc2b28-ee3d-43bb-8007-bb6f3dcb9d20"
      },
      "execution_count": 23,
      "outputs": [
        {
          "output_type": "execute_result",
          "data": {
            "text/plain": [
              "7"
            ]
          },
          "metadata": {},
          "execution_count": 23
        }
      ]
    },
    {
      "cell_type": "code",
      "source": [
        "## TOTAL OF PARAMETERS\n",
        "weights + biases"
      ],
      "metadata": {
        "colab": {
          "base_uri": "https://localhost:8080/"
        },
        "id": "UyfDoYlm8HDu",
        "outputId": "aa2534c4-1f70-4f35-90d6-e8604f3506e0"
      },
      "execution_count": 24,
      "outputs": [
        {
          "output_type": "execute_result",
          "data": {
            "text/plain": [
              "25"
            ]
          },
          "metadata": {},
          "execution_count": 24
        }
      ]
    },
    {
      "cell_type": "code",
      "source": [],
      "metadata": {
        "id": "0i8FgqoZ8NBF"
      },
      "execution_count": null,
      "outputs": []
    }
  ]
}